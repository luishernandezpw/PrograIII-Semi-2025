{
  "nbformat": 4,
  "nbformat_minor": 0,
  "metadata": {
    "colab": {
      "provenance": [],
      "authorship_tag": "ABX9TyM2c7dPI6kxReU+nUwhxioc",
      "include_colab_link": true
    },
    "kernelspec": {
      "name": "python3",
      "display_name": "Python 3"
    },
    "language_info": {
      "name": "python"
    }
  },
  "cells": [
    {
      "cell_type": "markdown",
      "metadata": {
        "id": "view-in-github",
        "colab_type": "text"
      },
      "source": [
        "<a href=\"https://colab.research.google.com/github/luishernandezpw/PrograIII-Semi-2025/blob/master/introduccion_python.ipynb\" target=\"_parent\"><img src=\"https://colab.research.google.com/assets/colab-badge.svg\" alt=\"Open In Colab\"/></a>"
      ]
    },
    {
      "cell_type": "code",
      "execution_count": null,
      "metadata": {
        "colab": {
          "base_uri": "https://localhost:8080/"
        },
        "id": "zubmubXbbwIw",
        "outputId": "363981f9-cedc-45d8-c155-0b6e2f698347"
      },
      "outputs": [
        {
          "output_type": "stream",
          "name": "stdout",
          "text": [
            "Hola Mundo\n",
            "Bienvenidos chicos a Programacion Computacional III\n"
          ]
        }
      ],
      "source": [
        "print(\"Hola Mundo\")\n",
        "print(\"Bienvenidos chicos a Programacion Computacional III\")"
      ]
    },
    {
      "cell_type": "code",
      "source": [
        "nombre = \"Luis Hernandez\"\n",
        "edad = 5\n",
        "print(nombre, edad)\n",
        "\n",
        "edad = \"cinco\"\n",
        "print(\"Tu edad: \", edad)"
      ],
      "metadata": {
        "colab": {
          "base_uri": "https://localhost:8080/"
        },
        "id": "hVnz5BqydK8k",
        "outputId": "ea5a2aa2-33c7-4657-a437-7d2643f849d2"
      },
      "execution_count": null,
      "outputs": [
        {
          "output_type": "stream",
          "name": "stdout",
          "text": [
            "Luis Hernandez 5\n",
            "Tu edad:  cinco\n"
          ]
        }
      ]
    },
    {
      "cell_type": "code",
      "source": [
        "num1 = 5\n",
        "num2 = 8.9\n",
        "suma = num1 + num2\n",
        "print(\"La suma es: \", suma)"
      ],
      "metadata": {
        "colab": {
          "base_uri": "https://localhost:8080/"
        },
        "id": "J0TOgfMbdy90",
        "outputId": "c3b6490c-4bd4-4d9f-ca3b-24cef165bd90"
      },
      "execution_count": null,
      "outputs": [
        {
          "output_type": "stream",
          "name": "stdout",
          "text": [
            "La suma es:  13.9\n"
          ]
        }
      ]
    },
    {
      "cell_type": "code",
      "source": [
        "num1 = float(input(\"Num1: \"))\n",
        "num2 = float(input(\"Num2: \"))\n",
        "suma = num1 + num2\n",
        "print(\"La suma es: \", suma)"
      ],
      "metadata": {
        "colab": {
          "base_uri": "https://localhost:8080/"
        },
        "id": "JMUfE44gfZaH",
        "outputId": "a84ac4a5-fac8-4811-9d25-da58c3122b64"
      },
      "execution_count": null,
      "outputs": [
        {
          "output_type": "stream",
          "name": "stdout",
          "text": [
            "Num1: 5\n",
            "Num2: 6\n",
            "La suma es:  11.0\n"
          ]
        }
      ]
    },
    {
      "cell_type": "markdown",
      "source": [
        "**TIPOS DE DATOS EN PYTHON**"
      ],
      "metadata": {
        "id": "DDD-VU-8QTVh"
      }
    },
    {
      "cell_type": "code",
      "source": [
        "#ENTERO\n",
        "num1 = 6\n",
        "print(num1, \"Esto es un numero entero\")\n",
        "print( str(num1) + \" Esto es un entero\"  )\n",
        "\n",
        "#DECIMAL\n",
        "num2 = 7.5\n",
        "print(num2, \"Esto es un numero decimal\")\n",
        "\n",
        "#BOOLEANO\n",
        "esMayor = True\n",
        "print(esMayor, \"Esto es un booleano\")\n",
        "\n",
        "#CADENA\n",
        "nombre = \"Luis Hernandez\"\n",
        "cadena = input(\"Dime una cadena: \")\n",
        "valor = int(input(\"Dime un valor: \"))\n",
        "print(nombre, \"Esto es una cadena\", cadena[:valor])\n",
        "\n",
        "print( nombre, \"Letra inicial\", nombre[0],  \"Un valor especifico\", nombre[5], \"rango\", nombre[0:4], \"Comenzar desde el final\", nombre[-1])\n",
        "print( nombre[5:len(nombre)], nombre[:4] )\n",
        "print(type(nombre))\n"
      ],
      "metadata": {
        "id": "-LwMVblLhwE7",
        "colab": {
          "base_uri": "https://localhost:8080/"
        },
        "outputId": "1c28a3ad-1218-4ac5-9205-888adfb615ed"
      },
      "execution_count": null,
      "outputs": [
        {
          "output_type": "stream",
          "name": "stdout",
          "text": [
            "6 Esto es un numero entero\n",
            "6 Esto es un entero\n",
            "7.5 Esto es un numero decimal\n",
            "True Esto es un booleano\n",
            "Dime una cadena: Hola\n",
            "Dime un valor: 4\n",
            "Luis Hernandez Esto es una cadena Hola\n",
            "Luis Hernandez Letra inicial L Un valor especifico H rango Luis Comenzar desde el final z\n",
            "Hernandez Luis\n",
            "<class 'str'>\n",
            "2025-07-28 13:49:35.455377 2025-07-28 13:49:35.455377\n",
            "<class 'datetime.datetime'>\n"
          ]
        }
      ]
    },
    {
      "cell_type": "code",
      "source": [
        "#FECHAS\n",
        "from datetime import datetime, date, time\n",
        "fecha = datetime.now()\n",
        "print(fecha, fecha.date(), fecha.time())\n",
        "print(type(fecha))\n",
        "\n",
        "fechaPersonalizada = date(2025,8,1)\n",
        "print(fechaPersonalizada)\n",
        "\n",
        "fecha = \"2025-08-08\"\n",
        "fecha = datetime.strptime(fecha, \"%Y-%m-%d\")\n",
        "print(fecha)\n",
        "\n",
        "print( fecha.strftime(\"%d/%m/%Y\"), \"Regresamos a clases \" )\n",
        "\n",
        "fechaNac = input(\"Dime tu fecha de nacimiento en formato d-m-Y: \")\n",
        "fechaNac = datetime.strptime(fechaNac, \"%d-%m-%Y\")\n",
        "print(fechaNac)"
      ],
      "metadata": {
        "colab": {
          "base_uri": "https://localhost:8080/"
        },
        "id": "vOFWyegxRGc1",
        "outputId": "aab8d1ca-cf18-47d5-8c44-0154e2bc5a2f"
      },
      "execution_count": null,
      "outputs": [
        {
          "output_type": "stream",
          "name": "stdout",
          "text": [
            "2025-07-28 14:03:11.210910 2025-07-28 14:03:11.210910\n",
            "<class 'datetime.datetime'>\n",
            "2025-08-01\n",
            "2025-08-08 00:00:00\n",
            "08/08/2025 Regresamos a clases \n",
            "Dime tu fecha de nacimiento en formato d-m-Y: 01-01-2025\n",
            "2025-01-01 00:00:00\n"
          ]
        }
      ]
    },
    {
      "cell_type": "markdown",
      "source": [
        "**FUNCIONES EN PYTHON**"
      ],
      "metadata": {
        "id": "NJvk2speaUn7"
      }
    },
    {
      "cell_type": "code",
      "source": [
        "#Suma\n",
        "def suma(num1, num2):\n",
        "  return num1 + num2"
      ],
      "metadata": {
        "id": "s2yQJkdAaZe1",
        "outputId": "9b4c3ef8-7e30-4991-8ea1-f50bbd45419e",
        "colab": {
          "base_uri": "https://localhost:8080/"
        }
      },
      "execution_count": null,
      "outputs": [
        {
          "output_type": "stream",
          "name": "stdout",
          "text": [
            "La suma de 5 + 8 =  13\n"
          ]
        }
      ]
    },
    {
      "cell_type": "code",
      "source": [
        "print(\"La suma de 5 + 8 = \", suma(5,8))"
      ],
      "metadata": {
        "id": "DH3p2fiUbhGP",
        "outputId": "8529cc5b-35b7-45a9-ef78-6cb1c093eb3e",
        "colab": {
          "base_uri": "https://localhost:8080/"
        }
      },
      "execution_count": null,
      "outputs": [
        {
          "output_type": "stream",
          "name": "stdout",
          "text": [
            "La suma de 5 + 8 =  13\n"
          ]
        }
      ]
    },
    {
      "cell_type": "code",
      "source": [
        "num1 = float(input(\"Num1: \"))\n",
        "num2 = float(input(\"Num2: \"))\n",
        "respuesta = suma(num1, num2)\n",
        "print(\"La suma es: \", respuesta)"
      ],
      "metadata": {
        "id": "m0AbSN96boIq",
        "outputId": "8ef2bfa2-6938-415f-99ac-78789a0944fe",
        "colab": {
          "base_uri": "https://localhost:8080/"
        }
      },
      "execution_count": null,
      "outputs": [
        {
          "output_type": "stream",
          "name": "stdout",
          "text": [
            "Num1: 8\n",
            "Num2: 6\n",
            "La suma es:  14.0\n"
          ]
        }
      ]
    },
    {
      "cell_type": "code",
      "source": [
        "#Hacer un ejercicio en python haciendo uso de las funciones, que reste dos numeros introducidos por el usuario. TAREA.\n"
      ],
      "metadata": {
        "id": "hKxtQsA_cRPh"
      },
      "execution_count": null,
      "outputs": []
    },
    {
      "cell_type": "code",
      "source": [
        "#Hacer un ejercicio en python haciendo uso de funciones de usuario, que convierta grados celcius a Farenheit.\n",
        "def celsiusFarenheit(c):\n",
        "  return c*1.8 + 32"
      ],
      "metadata": {
        "id": "2Y0BXI-TThR5"
      },
      "execution_count": 20,
      "outputs": []
    },
    {
      "cell_type": "code",
      "source": [
        "c = int(input(\"Grados c: \"))\n",
        "f = celsiusFarenheit(c)\n",
        "print(\"F: \", f)"
      ],
      "metadata": {
        "id": "7C6o9TJ7XQK8",
        "outputId": "29479f24-6b5e-4ec1-d468-3e8b0b549b22",
        "colab": {
          "base_uri": "https://localhost:8080/"
        }
      },
      "execution_count": 21,
      "outputs": [
        {
          "output_type": "stream",
          "name": "stdout",
          "text": [
            "Grados c: 38\n",
            "F:  100.4\n"
          ]
        }
      ]
    },
    {
      "cell_type": "code",
      "source": [
        "#Hacer un ejercicio en python haciendo uso de funciones de usuario, que convierta grados Farenheit a Celsius.\n",
        "def farenheitCelsius(f):\n",
        "  return (f-32) * 5/9\n",
        "\n",
        "f = float(input(\"F: \"))\n",
        "c = farenheitCelsius(f)\n",
        "print(\"C: \", c)"
      ],
      "metadata": {
        "id": "_GQob4SMZDF5",
        "outputId": "b0af9069-e9bd-4788-f57f-b9ee1fee20a6",
        "colab": {
          "base_uri": "https://localhost:8080/"
        }
      },
      "execution_count": 22,
      "outputs": [
        {
          "output_type": "stream",
          "name": "stdout",
          "text": [
            "F: 100\n",
            "C:  37.77777777777778\n"
          ]
        }
      ]
    },
    {
      "cell_type": "code",
      "source": [
        "#Hacer un ejercicio en python haciendo uso de funciones de usuario, que convierta grados Celsius a Kelvin.\n",
        "def celsiusKelvin(c):\n",
        "  return c + 273.15\n",
        "\n",
        "c = float(input(\"C: \"))\n",
        "k = celsiusKelvin(c)\n",
        "print(\"K: \", k)"
      ],
      "metadata": {
        "id": "h5hTuDE4e5c7",
        "outputId": "0eb97320-1788-41de-aa4f-a9b898e0eb2d",
        "colab": {
          "base_uri": "https://localhost:8080/"
        }
      },
      "execution_count": 23,
      "outputs": [
        {
          "output_type": "stream",
          "name": "stdout",
          "text": [
            "C: 35\n",
            "K:  308.15\n"
          ]
        }
      ]
    },
    {
      "cell_type": "code",
      "source": [
        "#Hacer un ejercicio en python haciendo uso de funciones de usuario, que calcule\n",
        "#el sueldo de un empleado, segun el numero de hrs trabajas y el valor por hora\n",
        "def sueldo(numHrs, valorXhr):\n",
        "  sueldo = numHrs * valorXhr * 30\n",
        "  return sueldo"
      ],
      "metadata": {
        "id": "b3XEICY6hbcp"
      },
      "execution_count": 33,
      "outputs": []
    },
    {
      "cell_type": "code",
      "source": [
        "numHrs = float(input(\"Hrs: \"))\n",
        "valorXhr = float(input(\"Valor Xhr: \"))\n",
        "sueldo = sueldo(numHrs, valorXhr)\n",
        "\n",
        "print(\"Sueldo: \", sueldo)"
      ],
      "metadata": {
        "id": "GChDYzn-hlFI",
        "outputId": "5bb93049-1860-4470-8392-fd0959bb6883",
        "colab": {
          "base_uri": "https://localhost:8080/"
        }
      },
      "execution_count": 34,
      "outputs": [
        {
          "output_type": "stream",
          "name": "stdout",
          "text": [
            "Hrs: 8\n",
            "Valor Xhr: 10\n",
            "Sueldo:  2400.0\n"
          ]
        }
      ]
    },
    {
      "cell_type": "code",
      "source": [
        "#Hacer un ejercicio en python haciendo uso de funciones de usuario, que permita elevar un numero a un exponente\n",
        "def expoenciacion(b,e):\n",
        "  return b**e\n",
        "\n",
        "b = float(input(\"Base: \"))\n",
        "e = float(input(\"Exponente: \"))\n",
        "\n",
        "resultado = expoenciacion(b,e)\n",
        "print(\"El Numero: \", b, \", elevado a \",e, \", el resultado es: \", resultado)"
      ],
      "metadata": {
        "id": "13UqFshCjxbg",
        "outputId": "b97386a9-29dd-4b7a-8aa0-a3b7e44e7f8b",
        "colab": {
          "base_uri": "https://localhost:8080/"
        }
      },
      "execution_count": 44,
      "outputs": [
        {
          "output_type": "stream",
          "name": "stdout",
          "text": [
            "Base: 8\n",
            "Exponente: 3\n",
            "El Numero:  8.0 , elevado a  3.0 , el resultado es:  512.0\n"
          ]
        }
      ]
    }
  ]
}